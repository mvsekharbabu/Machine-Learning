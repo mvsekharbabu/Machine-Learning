{
 "cells": [
  {
   "cell_type": "code",
   "execution_count": 1,
   "metadata": {},
   "outputs": [],
   "source": [
    "# Importing necessary libraries\n",
    "import numpy as np\n",
    "import pandas as pd"
   ]
  },
  {
   "cell_type": "code",
   "execution_count": 2,
   "metadata": {},
   "outputs": [
    {
     "data": {
      "text/html": [
       "<div>\n",
       "<style scoped>\n",
       "    .dataframe tbody tr th:only-of-type {\n",
       "        vertical-align: middle;\n",
       "    }\n",
       "\n",
       "    .dataframe tbody tr th {\n",
       "        vertical-align: top;\n",
       "    }\n",
       "\n",
       "    .dataframe thead th {\n",
       "        text-align: right;\n",
       "    }\n",
       "</style>\n",
       "<table border=\"1\" class=\"dataframe\">\n",
       "  <thead>\n",
       "    <tr style=\"text-align: right;\">\n",
       "      <th></th>\n",
       "      <th>song_1</th>\n",
       "      <th>song_2</th>\n",
       "      <th>song_3</th>\n",
       "      <th>song_4</th>\n",
       "      <th>song_5</th>\n",
       "      <th>song_6</th>\n",
       "      <th>song_7</th>\n",
       "      <th>song_8</th>\n",
       "      <th>song_9</th>\n",
       "      <th>song_10</th>\n",
       "      <th>...</th>\n",
       "      <th>song_4991</th>\n",
       "      <th>song_4992</th>\n",
       "      <th>song_4993</th>\n",
       "      <th>song_4994</th>\n",
       "      <th>song_4995</th>\n",
       "      <th>song_4996</th>\n",
       "      <th>song_4997</th>\n",
       "      <th>song_4998</th>\n",
       "      <th>song_4999</th>\n",
       "      <th>song_5000</th>\n",
       "    </tr>\n",
       "  </thead>\n",
       "  <tbody>\n",
       "    <tr>\n",
       "      <th>user_1</th>\n",
       "      <td>2</td>\n",
       "      <td>2</td>\n",
       "      <td>8</td>\n",
       "      <td>8</td>\n",
       "      <td>13</td>\n",
       "      <td>1</td>\n",
       "      <td>4</td>\n",
       "      <td>9</td>\n",
       "      <td>1</td>\n",
       "      <td>2</td>\n",
       "      <td>...</td>\n",
       "      <td>14</td>\n",
       "      <td>2</td>\n",
       "      <td>14</td>\n",
       "      <td>1</td>\n",
       "      <td>9</td>\n",
       "      <td>0</td>\n",
       "      <td>11</td>\n",
       "      <td>6</td>\n",
       "      <td>14</td>\n",
       "      <td>7</td>\n",
       "    </tr>\n",
       "    <tr>\n",
       "      <th>user_2</th>\n",
       "      <td>13</td>\n",
       "      <td>5</td>\n",
       "      <td>5</td>\n",
       "      <td>5</td>\n",
       "      <td>12</td>\n",
       "      <td>8</td>\n",
       "      <td>10</td>\n",
       "      <td>10</td>\n",
       "      <td>2</td>\n",
       "      <td>2</td>\n",
       "      <td>...</td>\n",
       "      <td>10</td>\n",
       "      <td>6</td>\n",
       "      <td>11</td>\n",
       "      <td>1</td>\n",
       "      <td>1</td>\n",
       "      <td>5</td>\n",
       "      <td>12</td>\n",
       "      <td>8</td>\n",
       "      <td>3</td>\n",
       "      <td>0</td>\n",
       "    </tr>\n",
       "    <tr>\n",
       "      <th>user_3</th>\n",
       "      <td>3</td>\n",
       "      <td>9</td>\n",
       "      <td>2</td>\n",
       "      <td>8</td>\n",
       "      <td>0</td>\n",
       "      <td>1</td>\n",
       "      <td>11</td>\n",
       "      <td>7</td>\n",
       "      <td>3</td>\n",
       "      <td>7</td>\n",
       "      <td>...</td>\n",
       "      <td>9</td>\n",
       "      <td>5</td>\n",
       "      <td>7</td>\n",
       "      <td>15</td>\n",
       "      <td>12</td>\n",
       "      <td>13</td>\n",
       "      <td>14</td>\n",
       "      <td>5</td>\n",
       "      <td>0</td>\n",
       "      <td>14</td>\n",
       "    </tr>\n",
       "    <tr>\n",
       "      <th>user_4</th>\n",
       "      <td>2</td>\n",
       "      <td>6</td>\n",
       "      <td>7</td>\n",
       "      <td>8</td>\n",
       "      <td>14</td>\n",
       "      <td>0</td>\n",
       "      <td>12</td>\n",
       "      <td>7</td>\n",
       "      <td>8</td>\n",
       "      <td>1</td>\n",
       "      <td>...</td>\n",
       "      <td>9</td>\n",
       "      <td>15</td>\n",
       "      <td>9</td>\n",
       "      <td>14</td>\n",
       "      <td>10</td>\n",
       "      <td>6</td>\n",
       "      <td>11</td>\n",
       "      <td>13</td>\n",
       "      <td>6</td>\n",
       "      <td>0</td>\n",
       "    </tr>\n",
       "    <tr>\n",
       "      <th>user_5</th>\n",
       "      <td>11</td>\n",
       "      <td>12</td>\n",
       "      <td>8</td>\n",
       "      <td>6</td>\n",
       "      <td>13</td>\n",
       "      <td>7</td>\n",
       "      <td>0</td>\n",
       "      <td>7</td>\n",
       "      <td>3</td>\n",
       "      <td>13</td>\n",
       "      <td>...</td>\n",
       "      <td>12</td>\n",
       "      <td>14</td>\n",
       "      <td>11</td>\n",
       "      <td>11</td>\n",
       "      <td>11</td>\n",
       "      <td>7</td>\n",
       "      <td>3</td>\n",
       "      <td>6</td>\n",
       "      <td>11</td>\n",
       "      <td>7</td>\n",
       "    </tr>\n",
       "  </tbody>\n",
       "</table>\n",
       "<p>5 rows × 5000 columns</p>\n",
       "</div>"
      ],
      "text/plain": [
       "        song_1  song_2  song_3  song_4  song_5  song_6  song_7  song_8  \\\n",
       "user_1       2       2       8       8      13       1       4       9   \n",
       "user_2      13       5       5       5      12       8      10      10   \n",
       "user_3       3       9       2       8       0       1      11       7   \n",
       "user_4       2       6       7       8      14       0      12       7   \n",
       "user_5      11      12       8       6      13       7       0       7   \n",
       "\n",
       "        song_9  song_10  ...  song_4991  song_4992  song_4993  song_4994  \\\n",
       "user_1       1        2  ...         14          2         14          1   \n",
       "user_2       2        2  ...         10          6         11          1   \n",
       "user_3       3        7  ...          9          5          7         15   \n",
       "user_4       8        1  ...          9         15          9         14   \n",
       "user_5       3       13  ...         12         14         11         11   \n",
       "\n",
       "        song_4995  song_4996  song_4997  song_4998  song_4999  song_5000  \n",
       "user_1          9          0         11          6         14          7  \n",
       "user_2          1          5         12          8          3          0  \n",
       "user_3         12         13         14          5          0         14  \n",
       "user_4         10          6         11         13          6          0  \n",
       "user_5         11          7          3          6         11          7  \n",
       "\n",
       "[5 rows x 5000 columns]"
      ]
     },
     "execution_count": 2,
     "metadata": {},
     "output_type": "execute_result"
    }
   ],
   "source": [
    "# Read the data from csv file into a dataframe\n",
    "df = pd.read_csv('spotify.csv', index_col=0) #making user column as index column\n",
    "df.head()"
   ]
  },
  {
   "cell_type": "code",
   "execution_count": 3,
   "metadata": {},
   "outputs": [
    {
     "name": "stdout",
     "output_type": "stream",
     "text": [
      "No. of Users:  1000\n",
      "No. of Songs:  5000\n"
     ]
    }
   ],
   "source": [
    "print(\"No. of Users: \", len(df))\n",
    "print(\"No. of Songs: \", len(df.columns))"
   ]
  },
  {
   "cell_type": "code",
   "execution_count": 4,
   "metadata": {},
   "outputs": [],
   "source": [
    "# Convert a dataframe to a numpy array\n",
    "X = df.iloc[:,:].values"
   ]
  },
  {
   "cell_type": "code",
   "execution_count": 5,
   "metadata": {},
   "outputs": [
    {
     "data": {
      "text/plain": [
       "(1000, 5000)"
      ]
     },
     "execution_count": 5,
     "metadata": {},
     "output_type": "execute_result"
    }
   ],
   "source": [
    "# checking shape of the array\n",
    "X.shape"
   ]
  },
  {
   "cell_type": "markdown",
   "metadata": {},
   "source": [
    "## NMF\n",
    "\n",
    "NMF means Non-negative Matrix Factorization.\n",
    "NMF is used to decompose single matrix into two different matrices."
   ]
  },
  {
   "cell_type": "code",
   "execution_count": 6,
   "metadata": {},
   "outputs": [
    {
     "data": {
      "text/plain": [
       "NMF(alpha=0.0, beta_loss='frobenius', init=None, l1_ratio=0.0, max_iter=50,\n",
       "    n_components=100, random_state=0, shuffle=False, solver='cd', tol=0.0001,\n",
       "    verbose=0)"
      ]
     },
     "execution_count": 6,
     "metadata": {},
     "output_type": "execute_result"
    }
   ],
   "source": [
    "# Decompose user_song matrix into user matrix and song matrix\n",
    "from sklearn.decomposition import NMF\n",
    "\n",
    "# in matrices multiplication (m x n)(n x p) = (m x p) is the result matrix ==> (m x p) = (m x n)(n x p)\n",
    "nmf = NMF(n_components=100, max_iter=50, random_state=0)\n",
    "\n",
    "# here, m is users, p is songs, n is n_components i.e., (1000 x 5000) = (1000 x 100)(100 x 5000)\n",
    "nmf.fit(X)"
   ]
  },
  {
   "cell_type": "code",
   "execution_count": 7,
   "metadata": {},
   "outputs": [
    {
     "data": {
      "text/plain": [
       "(1000, 100)"
      ]
     },
     "execution_count": 7,
     "metadata": {},
     "output_type": "execute_result"
    }
   ],
   "source": [
    "# Print shape of user_matrix\n",
    "user_matrix = nmf.transform(X)\n",
    "user_matrix.shape"
   ]
  },
  {
   "cell_type": "code",
   "execution_count": 8,
   "metadata": {},
   "outputs": [
    {
     "data": {
      "text/plain": [
       "(5000, 100)"
      ]
     },
     "execution_count": 8,
     "metadata": {},
     "output_type": "execute_result"
    }
   ],
   "source": [
    "# Print shape of song_matrix\n",
    "song_matrix = nmf.components_\n",
    "song_matrix = song_matrix.T\n",
    "song_matrix.shape"
   ]
  },
  {
   "cell_type": "markdown",
   "metadata": {},
   "source": [
    "## Song Recommendation"
   ]
  },
  {
   "cell_type": "code",
   "execution_count": 9,
   "metadata": {},
   "outputs": [],
   "source": [
    "# we have user_matrix and song_matrix\n",
    "# Let's say we want to recommend some songs to user-1\n",
    "# for this we need to follow the below steps"
   ]
  },
  {
   "cell_type": "markdown",
   "metadata": {},
   "source": [
    "### Step-1: We need to find the eucledian distance from user-1 to all other users"
   ]
  },
  {
   "cell_type": "code",
   "execution_count": 10,
   "metadata": {},
   "outputs": [
    {
     "data": {
      "text/plain": [
       "1.0"
      ]
     },
     "execution_count": 10,
     "metadata": {},
     "output_type": "execute_result"
    }
   ],
   "source": [
    "# Creating a function to find the eucledian distance\n",
    "\n",
    "def euc_dist(v1,v2):\n",
    "    return pow(sum([pow(v1[idx] - v2[idx],2) for idx in range(len(v1))]),0.5)\n",
    "\n",
    "euc_dist([2,1],[1,1])"
   ]
  },
  {
   "cell_type": "markdown",
   "metadata": {},
   "source": [
    "user1 = user_matrix[0]\n",
    "eucledian_distances = []\n",
    "for idx in range(1000):\n",
    "    other_user = user_matrix[idx]\n",
    "    eu = euc_dist(user1, other_user)\n",
    "    eucledian_distances.append(eu)"
   ]
  },
  {
   "cell_type": "code",
   "execution_count": 11,
   "metadata": {},
   "outputs": [],
   "source": [
    "import sys\n",
    "eucledian_distances = []\n",
    "user1_idx = 0\n",
    "counter = 0\n",
    "for other_user in user_matrix[:]:\n",
    "    if user1_idx == counter:\n",
    "        # You need not to compare user-1 vector to user-1 vector\n",
    "        eucledian_distances.append(sys.float_info.max)\n",
    "    else:\n",
    "        user1 = user_matrix[0]\n",
    "        dist_ = euc_dist(user1,other_user)\n",
    "        eucledian_distances.append(dist_)\n",
    "    counter+=1"
   ]
  },
  {
   "cell_type": "markdown",
   "metadata": {},
   "source": [
    "### Step-2: Find 5 closest users"
   ]
  },
  {
   "cell_type": "code",
   "execution_count": 12,
   "metadata": {},
   "outputs": [
    {
     "data": {
      "text/plain": [
       "[1.7976931348623157e+308,\n",
       " 12.6825469520894,\n",
       " 12.074322380446397,\n",
       " 11.129357457060935,\n",
       " 12.736158783427857,\n",
       " 10.7919161674346]"
      ]
     },
     "execution_count": 12,
     "metadata": {},
     "output_type": "execute_result"
    }
   ],
   "source": [
    "eucledian_distances[0:6]"
   ]
  },
  {
   "cell_type": "code",
   "execution_count": 13,
   "metadata": {},
   "outputs": [],
   "source": [
    "# argsort() returns index value of distances in ascending order\n",
    "# distance between user-1 to user-1 is 0.0 so, it returns index value of user-1 i.e., '0'\n",
    "candidate_index = np.argsort(eucledian_distances)\n",
    "\n",
    "# first user who is closer to user-1 is index 0\n",
    "# second user who is closer to user-1 is index 352\n",
    "# third user who is closer to user-1 is index 737"
   ]
  },
  {
   "cell_type": "code",
   "execution_count": 14,
   "metadata": {},
   "outputs": [
    {
     "data": {
      "text/plain": [
       "array([352, 737, 284, 501, 609], dtype=int64)"
      ]
     },
     "execution_count": 14,
     "metadata": {},
     "output_type": "execute_result"
    }
   ],
   "source": [
    "# top 5 users who is closer to user-1\n",
    "user_index_closer_to_user1 = np.argsort(eucledian_distances)[:5]\n",
    "user_index_closer_to_user1"
   ]
  },
  {
   "cell_type": "markdown",
   "metadata": {},
   "source": [
    "### Step-3: Find the songs what these 5 closest songs are listening"
   ]
  },
  {
   "cell_type": "code",
   "execution_count": 15,
   "metadata": {},
   "outputs": [
    {
     "name": "stdout",
     "output_type": "stream",
     "text": [
      "Index(['song_1', 'song_2', 'song_3', 'song_4', 'song_5', 'song_6', 'song_7',\n",
      "       'song_8', 'song_9', 'song_10',\n",
      "       ...\n",
      "       'song_4988', 'song_4989', 'song_4990', 'song_4991', 'song_4992',\n",
      "       'song_4993', 'song_4994', 'song_4995', 'song_4996', 'song_4997'],\n",
      "      dtype='object', length=4682)\n",
      "Index(['song_1', 'song_2', 'song_3', 'song_4', 'song_5', 'song_7', 'song_8',\n",
      "       'song_9', 'song_10', 'song_11',\n",
      "       ...\n",
      "       'song_4989', 'song_4990', 'song_4991', 'song_4992', 'song_4993',\n",
      "       'song_4994', 'song_4995', 'song_4997', 'song_4998', 'song_4999'],\n",
      "      dtype='object', length=4699)\n",
      "Index(['song_1', 'song_2', 'song_3', 'song_4', 'song_5', 'song_6', 'song_7',\n",
      "       'song_8', 'song_9', 'song_10',\n",
      "       ...\n",
      "       'song_4990', 'song_4991', 'song_4992', 'song_4993', 'song_4994',\n",
      "       'song_4995', 'song_4996', 'song_4997', 'song_4998', 'song_4999'],\n",
      "      dtype='object', length=4704)\n",
      "Index(['song_1', 'song_2', 'song_3', 'song_4', 'song_5', 'song_6', 'song_7',\n",
      "       'song_8', 'song_9', 'song_10',\n",
      "       ...\n",
      "       'song_4988', 'song_4989', 'song_4990', 'song_4991', 'song_4992',\n",
      "       'song_4993', 'song_4994', 'song_4995', 'song_4996', 'song_4998'],\n",
      "      dtype='object', length=4720)\n",
      "Index(['song_1', 'song_2', 'song_4', 'song_5', 'song_6', 'song_7', 'song_8',\n",
      "       'song_9', 'song_10', 'song_11',\n",
      "       ...\n",
      "       'song_4990', 'song_4991', 'song_4992', 'song_4993', 'song_4994',\n",
      "       'song_4995', 'song_4996', 'song_4997', 'song_4998', 'song_4999'],\n",
      "      dtype='object', length=4697)\n"
     ]
    }
   ],
   "source": [
    "# List the songs that these 5 closest users are listening\n",
    "# Recommend these songs to user1\n",
    "\n",
    "for id_ in user_index_closer_to_user1:\n",
    "    temp = pd.DataFrame(df.iloc[id_])\n",
    "    print(temp[temp.values != 0][0:-1].index)"
   ]
  },
  {
   "cell_type": "markdown",
   "metadata": {},
   "source": [
    "## KMeans"
   ]
  },
  {
   "cell_type": "code",
   "execution_count": 16,
   "metadata": {},
   "outputs": [
    {
     "data": {
      "text/plain": [
       "(5000, 100)"
      ]
     },
     "execution_count": 16,
     "metadata": {},
     "output_type": "execute_result"
    }
   ],
   "source": [
    "song_matrix.shape"
   ]
  },
  {
   "cell_type": "code",
   "execution_count": 17,
   "metadata": {},
   "outputs": [
    {
     "data": {
      "text/plain": [
       "KMeans(algorithm='auto', copy_x=True, init='k-means++', max_iter=300,\n",
       "       n_clusters=10, n_init=10, n_jobs=None, precompute_distances='auto',\n",
       "       random_state=None, tol=0.0001, verbose=0)"
      ]
     },
     "execution_count": 17,
     "metadata": {},
     "output_type": "execute_result"
    }
   ],
   "source": [
    "# First we will make some clusters\n",
    "from sklearn.cluster import KMeans\n",
    "\n",
    "k = 10\n",
    "kmeans = KMeans(n_clusters=k)\n",
    "kmeans.fit(song_matrix)"
   ]
  },
  {
   "cell_type": "code",
   "execution_count": 18,
   "metadata": {},
   "outputs": [
    {
     "name": "stdout",
     "output_type": "stream",
     "text": [
      "0\n"
     ]
    }
   ],
   "source": [
    "# find the vector for song-1\n",
    "index_in_df = list(df.columns).index('song_1')\n",
    "print(index_in_df)\n",
    "song1_vec = song_matrix[index_in_df]"
   ]
  },
  {
   "cell_type": "code",
   "execution_count": 19,
   "metadata": {},
   "outputs": [
    {
     "data": {
      "text/plain": [
       "array([0])"
      ]
     },
     "execution_count": 19,
     "metadata": {},
     "output_type": "execute_result"
    }
   ],
   "source": [
    "# Find the cluster in which song-1 will fall\n",
    "kmeans.predict([song1_vec])"
   ]
  },
  {
   "cell_type": "code",
   "execution_count": 24,
   "metadata": {},
   "outputs": [],
   "source": [
    "# Find all the songs in cluster = [?]\n",
    "cluster_id = 0\n",
    "all_labels = list(kmeans.predict(song_matrix))\n",
    "zero_cluster_candidate_ids = [idx for idx in range(len(all_labels)) if all_labels[idx]==cluster_id]\n",
    "zero_cluster_candidates = song_matrix[zero_cluster_candidate_ids]"
   ]
  },
  {
   "cell_type": "code",
   "execution_count": 25,
   "metadata": {},
   "outputs": [
    {
     "data": {
      "text/plain": [
       "[0,\n",
       " 4,\n",
       " 6,\n",
       " 7,\n",
       " 12,\n",
       " 14,\n",
       " 15,\n",
       " 26,\n",
       " 28,\n",
       " 35,\n",
       " 43,\n",
       " 48,\n",
       " 50,\n",
       " 76,\n",
       " 78,\n",
       " 82,\n",
       " 89,\n",
       " 102,\n",
       " 111,\n",
       " 127,\n",
       " 130,\n",
       " 134,\n",
       " 165,\n",
       " 178,\n",
       " 202,\n",
       " 203,\n",
       " 231,\n",
       " 233,\n",
       " 259,\n",
       " 266,\n",
       " 274,\n",
       " 298,\n",
       " 308,\n",
       " 339,\n",
       " 355,\n",
       " 356,\n",
       " 367,\n",
       " 368,\n",
       " 400,\n",
       " 407,\n",
       " 413,\n",
       " 423,\n",
       " 430,\n",
       " 469,\n",
       " 470,\n",
       " 515,\n",
       " 518,\n",
       " 519,\n",
       " 529,\n",
       " 533,\n",
       " 534,\n",
       " 540,\n",
       " 544,\n",
       " 551,\n",
       " 554,\n",
       " 555,\n",
       " 568,\n",
       " 584,\n",
       " 588,\n",
       " 592,\n",
       " 612,\n",
       " 618,\n",
       " 621,\n",
       " 622,\n",
       " 623,\n",
       " 631,\n",
       " 639,\n",
       " 647,\n",
       " 652,\n",
       " 678,\n",
       " 686,\n",
       " 688,\n",
       " 690,\n",
       " 713,\n",
       " 720,\n",
       " 724,\n",
       " 735,\n",
       " 745,\n",
       " 747,\n",
       " 749,\n",
       " 757,\n",
       " 758,\n",
       " 763,\n",
       " 773,\n",
       " 776,\n",
       " 779,\n",
       " 780,\n",
       " 781,\n",
       " 783,\n",
       " 797,\n",
       " 798,\n",
       " 813,\n",
       " 817,\n",
       " 818,\n",
       " 821,\n",
       " 827,\n",
       " 864,\n",
       " 868,\n",
       " 877,\n",
       " 893,\n",
       " 903,\n",
       " 909,\n",
       " 928,\n",
       " 930,\n",
       " 933,\n",
       " 934,\n",
       " 938,\n",
       " 940,\n",
       " 943,\n",
       " 970,\n",
       " 981,\n",
       " 984,\n",
       " 988,\n",
       " 1013,\n",
       " 1036,\n",
       " 1047,\n",
       " 1048,\n",
       " 1077,\n",
       " 1100,\n",
       " 1113,\n",
       " 1125,\n",
       " 1129,\n",
       " 1133,\n",
       " 1134,\n",
       " 1139,\n",
       " 1158,\n",
       " 1161,\n",
       " 1170,\n",
       " 1175,\n",
       " 1189,\n",
       " 1194,\n",
       " 1213,\n",
       " 1226,\n",
       " 1242,\n",
       " 1246,\n",
       " 1250,\n",
       " 1255,\n",
       " 1284,\n",
       " 1292,\n",
       " 1297,\n",
       " 1301,\n",
       " 1313,\n",
       " 1315,\n",
       " 1333,\n",
       " 1336,\n",
       " 1345,\n",
       " 1347,\n",
       " 1354,\n",
       " 1376,\n",
       " 1378,\n",
       " 1392,\n",
       " 1406,\n",
       " 1412,\n",
       " 1419,\n",
       " 1424,\n",
       " 1426,\n",
       " 1440,\n",
       " 1444,\n",
       " 1453,\n",
       " 1458,\n",
       " 1460,\n",
       " 1462,\n",
       " 1468,\n",
       " 1470,\n",
       " 1478,\n",
       " 1483,\n",
       " 1487,\n",
       " 1497,\n",
       " 1503,\n",
       " 1504,\n",
       " 1506,\n",
       " 1520,\n",
       " 1525,\n",
       " 1533,\n",
       " 1539,\n",
       " 1549,\n",
       " 1550,\n",
       " 1553,\n",
       " 1560,\n",
       " 1564,\n",
       " 1567,\n",
       " 1572,\n",
       " 1586,\n",
       " 1592,\n",
       " 1605,\n",
       " 1606,\n",
       " 1609,\n",
       " 1611,\n",
       " 1612,\n",
       " 1614,\n",
       " 1622,\n",
       " 1632,\n",
       " 1650,\n",
       " 1652,\n",
       " 1663,\n",
       " 1665,\n",
       " 1683,\n",
       " 1692,\n",
       " 1705,\n",
       " 1716,\n",
       " 1727,\n",
       " 1745,\n",
       " 1747,\n",
       " 1748,\n",
       " 1754,\n",
       " 1763,\n",
       " 1764,\n",
       " 1784,\n",
       " 1793,\n",
       " 1794,\n",
       " 1796,\n",
       " 1798,\n",
       " 1822,\n",
       " 1823,\n",
       " 1871,\n",
       " 1875,\n",
       " 1880,\n",
       " 1884,\n",
       " 1885,\n",
       " 1890,\n",
       " 1891,\n",
       " 1945,\n",
       " 1947,\n",
       " 1971,\n",
       " 1978,\n",
       " 1992,\n",
       " 1993,\n",
       " 1995,\n",
       " 2002,\n",
       " 2004,\n",
       " 2034,\n",
       " 2056,\n",
       " 2062,\n",
       " 2065,\n",
       " 2066,\n",
       " 2067,\n",
       " 2076,\n",
       " 2077,\n",
       " 2078,\n",
       " 2106,\n",
       " 2139,\n",
       " 2140,\n",
       " 2144,\n",
       " 2148,\n",
       " 2155,\n",
       " 2170,\n",
       " 2178,\n",
       " 2190,\n",
       " 2203,\n",
       " 2214,\n",
       " 2218,\n",
       " 2232,\n",
       " 2241,\n",
       " 2258,\n",
       " 2269,\n",
       " 2280,\n",
       " 2283,\n",
       " 2296,\n",
       " 2303,\n",
       " 2307,\n",
       " 2308,\n",
       " 2310,\n",
       " 2316,\n",
       " 2317,\n",
       " 2327,\n",
       " 2339,\n",
       " 2357,\n",
       " 2359,\n",
       " 2373,\n",
       " 2385,\n",
       " 2413,\n",
       " 2437,\n",
       " 2442,\n",
       " 2452,\n",
       " 2455,\n",
       " 2475,\n",
       " 2478,\n",
       " 2484,\n",
       " 2485,\n",
       " 2486,\n",
       " 2492,\n",
       " 2495,\n",
       " 2499,\n",
       " 2506,\n",
       " 2532,\n",
       " 2541,\n",
       " 2547,\n",
       " 2557,\n",
       " 2558,\n",
       " 2571,\n",
       " 2573,\n",
       " 2576,\n",
       " 2601,\n",
       " 2605,\n",
       " 2624,\n",
       " 2628,\n",
       " 2630,\n",
       " 2646,\n",
       " 2647,\n",
       " 2654,\n",
       " 2658,\n",
       " 2696,\n",
       " 2719,\n",
       " 2737,\n",
       " 2739,\n",
       " 2755,\n",
       " 2766,\n",
       " 2785,\n",
       " 2799,\n",
       " 2807,\n",
       " 2824,\n",
       " 2827,\n",
       " 2828,\n",
       " 2839,\n",
       " 2870,\n",
       " 2873,\n",
       " 2886,\n",
       " 2888,\n",
       " 2910,\n",
       " 2920,\n",
       " 2940,\n",
       " 2957,\n",
       " 2960,\n",
       " 2993,\n",
       " 2997,\n",
       " 3002,\n",
       " 3006,\n",
       " 3036,\n",
       " 3045,\n",
       " 3047,\n",
       " 3049,\n",
       " 3068,\n",
       " 3079,\n",
       " 3080,\n",
       " 3108,\n",
       " 3115,\n",
       " 3117,\n",
       " 3125,\n",
       " 3168,\n",
       " 3184,\n",
       " 3185,\n",
       " 3189,\n",
       " 3206,\n",
       " 3223,\n",
       " 3232,\n",
       " 3233,\n",
       " 3236,\n",
       " 3238,\n",
       " 3250,\n",
       " 3271,\n",
       " 3274,\n",
       " 3284,\n",
       " 3303,\n",
       " 3306,\n",
       " 3344,\n",
       " 3345,\n",
       " 3347,\n",
       " 3355,\n",
       " 3361,\n",
       " 3370,\n",
       " 3374,\n",
       " 3380,\n",
       " 3385,\n",
       " 3386,\n",
       " 3387,\n",
       " 3391,\n",
       " 3400,\n",
       " 3402,\n",
       " 3403,\n",
       " 3418,\n",
       " 3429,\n",
       " 3430,\n",
       " 3455,\n",
       " 3458,\n",
       " 3460,\n",
       " 3487,\n",
       " 3497,\n",
       " 3506,\n",
       " 3511,\n",
       " 3514,\n",
       " 3515,\n",
       " 3522,\n",
       " 3544,\n",
       " 3547,\n",
       " 3557,\n",
       " 3561,\n",
       " 3568,\n",
       " 3570,\n",
       " 3583,\n",
       " 3591,\n",
       " 3626,\n",
       " 3632,\n",
       " 3650,\n",
       " 3654,\n",
       " 3658,\n",
       " 3659,\n",
       " 3661,\n",
       " 3664,\n",
       " 3665,\n",
       " 3667,\n",
       " 3671,\n",
       " 3674,\n",
       " 3685,\n",
       " 3696,\n",
       " 3704,\n",
       " 3711,\n",
       " 3727,\n",
       " 3728,\n",
       " 3731,\n",
       " 3734,\n",
       " 3744,\n",
       " 3753,\n",
       " 3763,\n",
       " 3769,\n",
       " 3773,\n",
       " 3775,\n",
       " 3783,\n",
       " 3786,\n",
       " 3796,\n",
       " 3800,\n",
       " 3830,\n",
       " 3856,\n",
       " 3887,\n",
       " 3892,\n",
       " 3906,\n",
       " 3909,\n",
       " 3914,\n",
       " 3949,\n",
       " 3951,\n",
       " 3961,\n",
       " 3967,\n",
       " 3970,\n",
       " 3984,\n",
       " 3985,\n",
       " 3990,\n",
       " 3994,\n",
       " 3998,\n",
       " 4000,\n",
       " 4010,\n",
       " 4017,\n",
       " 4020,\n",
       " 4028,\n",
       " 4033,\n",
       " 4037,\n",
       " 4045,\n",
       " 4082,\n",
       " 4093,\n",
       " 4113,\n",
       " 4126,\n",
       " 4134,\n",
       " 4135,\n",
       " 4138,\n",
       " 4144,\n",
       " 4157,\n",
       " 4167,\n",
       " 4168,\n",
       " 4174,\n",
       " 4190,\n",
       " 4214,\n",
       " 4229,\n",
       " 4233,\n",
       " 4245,\n",
       " 4247,\n",
       " 4250,\n",
       " 4269,\n",
       " 4271,\n",
       " 4273,\n",
       " 4287,\n",
       " 4289,\n",
       " 4293,\n",
       " 4306,\n",
       " 4312,\n",
       " 4314,\n",
       " 4320,\n",
       " 4326,\n",
       " 4361,\n",
       " 4374,\n",
       " 4393,\n",
       " 4403,\n",
       " 4430,\n",
       " 4431,\n",
       " 4435,\n",
       " 4436,\n",
       " 4448,\n",
       " 4450,\n",
       " 4457,\n",
       " 4461,\n",
       " 4479,\n",
       " 4489,\n",
       " 4491,\n",
       " 4492,\n",
       " 4496,\n",
       " 4518,\n",
       " 4526,\n",
       " 4528,\n",
       " 4534,\n",
       " 4554,\n",
       " 4557,\n",
       " 4582,\n",
       " 4600,\n",
       " 4603,\n",
       " 4607,\n",
       " 4611,\n",
       " 4625,\n",
       " 4633,\n",
       " 4635,\n",
       " 4664,\n",
       " 4668,\n",
       " 4680,\n",
       " 4710,\n",
       " 4715,\n",
       " 4744,\n",
       " 4757,\n",
       " 4760,\n",
       " 4764,\n",
       " 4782,\n",
       " 4788,\n",
       " 4800,\n",
       " 4805,\n",
       " 4824,\n",
       " 4825,\n",
       " 4831,\n",
       " 4850,\n",
       " 4879,\n",
       " 4914,\n",
       " 4915,\n",
       " 4918,\n",
       " 4925,\n",
       " 4933,\n",
       " 4935,\n",
       " 4982,\n",
       " 4994,\n",
       " 4995,\n",
       " 4997]"
      ]
     },
     "execution_count": 25,
     "metadata": {},
     "output_type": "execute_result"
    }
   ],
   "source": [
    "zero_cluster_candidate_ids # Songs corresponding to cluster : 0"
   ]
  },
  {
   "cell_type": "markdown",
   "metadata": {},
   "source": [
    "## KNN"
   ]
  },
  {
   "cell_type": "code",
   "execution_count": 26,
   "metadata": {},
   "outputs": [
    {
     "data": {
      "text/plain": [
       "NearestNeighbors(algorithm='auto', leaf_size=30, metric='minkowski',\n",
       "                 metric_params=None, n_jobs=None, n_neighbors=5, p=2,\n",
       "                 radius=1.0)"
      ]
     },
     "execution_count": 26,
     "metadata": {},
     "output_type": "execute_result"
    }
   ],
   "source": [
    "# Find the closest songs using NearestNeighbors\n",
    "from sklearn.neighbors import NearestNeighbors\n",
    "knn = NearestNeighbors(n_neighbors=5)\n",
    "knn.fit(seventh_cluster_candidates)"
   ]
  },
  {
   "cell_type": "code",
   "execution_count": 27,
   "metadata": {},
   "outputs": [
    {
     "data": {
      "text/plain": [
       "(array([[1.93680729, 1.9449503 , 1.99463848, 2.00942528, 2.01741234]]),\n",
       " array([[ 54, 111, 402, 242,   9]], dtype=int64))"
      ]
     },
     "execution_count": 27,
     "metadata": {},
     "output_type": "execute_result"
    }
   ],
   "source": [
    "# The closest songs we recommend to the user\n",
    "knn.kneighbors([song_matrix[index_in_df]])"
   ]
  },
  {
   "cell_type": "code",
   "execution_count": null,
   "metadata": {},
   "outputs": [],
   "source": []
  }
 ],
 "metadata": {
  "kernelspec": {
   "display_name": "Python 3",
   "language": "python",
   "name": "python3"
  },
  "language_info": {
   "codemirror_mode": {
    "name": "ipython",
    "version": 3
   },
   "file_extension": ".py",
   "mimetype": "text/x-python",
   "name": "python",
   "nbconvert_exporter": "python",
   "pygments_lexer": "ipython3",
   "version": "3.7.6"
  }
 },
 "nbformat": 4,
 "nbformat_minor": 2
}
