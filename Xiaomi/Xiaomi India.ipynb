{
 "cells": [
  {
   "cell_type": "code",
   "execution_count": 1,
   "metadata": {},
   "outputs": [],
   "source": [
    "# Importing Necessary Libraries\n",
    "import pandas as pd\n",
    "import numpy as np\n",
    "import seaborn as sns\n",
    "import matplotlib.pyplot as plt"
   ]
  },
  {
   "cell_type": "code",
   "execution_count": 2,
   "metadata": {},
   "outputs": [
    {
     "data": {
      "text/html": [
       "<div>\n",
       "<style scoped>\n",
       "    .dataframe tbody tr th:only-of-type {\n",
       "        vertical-align: middle;\n",
       "    }\n",
       "\n",
       "    .dataframe tbody tr th {\n",
       "        vertical-align: top;\n",
       "    }\n",
       "\n",
       "    .dataframe thead th {\n",
       "        text-align: right;\n",
       "    }\n",
       "</style>\n",
       "<table border=\"1\" class=\"dataframe\">\n",
       "  <thead>\n",
       "    <tr style=\"text-align: right;\">\n",
       "      <th></th>\n",
       "      <th>Customer</th>\n",
       "      <th>Day</th>\n",
       "      <th>Browser</th>\n",
       "      <th>No. of Clicks</th>\n",
       "      <th>Pages Viewed</th>\n",
       "      <th>Time (min)</th>\n",
       "      <th>Amount Spent (Rs.)</th>\n",
       "    </tr>\n",
       "  </thead>\n",
       "  <tbody>\n",
       "    <tr>\n",
       "      <td>0</td>\n",
       "      <td>1</td>\n",
       "      <td>Monday</td>\n",
       "      <td>Chrome</td>\n",
       "      <td>13</td>\n",
       "      <td>4</td>\n",
       "      <td>8.5</td>\n",
       "      <td>2668.0</td>\n",
       "    </tr>\n",
       "    <tr>\n",
       "      <td>1</td>\n",
       "      <td>2</td>\n",
       "      <td>Saturday</td>\n",
       "      <td>Chrome</td>\n",
       "      <td>15</td>\n",
       "      <td>5</td>\n",
       "      <td>16.9</td>\n",
       "      <td>3469.0</td>\n",
       "    </tr>\n",
       "    <tr>\n",
       "      <td>2</td>\n",
       "      <td>3</td>\n",
       "      <td>Monday</td>\n",
       "      <td>Internet Explorer</td>\n",
       "      <td>20</td>\n",
       "      <td>6</td>\n",
       "      <td>7.3</td>\n",
       "      <td>5215.0</td>\n",
       "    </tr>\n",
       "    <tr>\n",
       "      <td>3</td>\n",
       "      <td>4</td>\n",
       "      <td>Monday</td>\n",
       "      <td>Chrome</td>\n",
       "      <td>42</td>\n",
       "      <td>6</td>\n",
       "      <td>30.1</td>\n",
       "      <td>10423.0</td>\n",
       "    </tr>\n",
       "    <tr>\n",
       "      <td>4</td>\n",
       "      <td>5</td>\n",
       "      <td>Saturday</td>\n",
       "      <td>Internet Explorer</td>\n",
       "      <td>20</td>\n",
       "      <td>6</td>\n",
       "      <td>13.3</td>\n",
       "      <td>5404.0</td>\n",
       "    </tr>\n",
       "  </tbody>\n",
       "</table>\n",
       "</div>"
      ],
      "text/plain": [
       "   Customer       Day            Browser  No. of Clicks  Pages Viewed  \\\n",
       "0         1    Monday             Chrome             13             4   \n",
       "1         2  Saturday             Chrome             15             5   \n",
       "2         3    Monday  Internet Explorer             20             6   \n",
       "3         4    Monday             Chrome             42             6   \n",
       "4         5  Saturday  Internet Explorer             20             6   \n",
       "\n",
       "   Time (min)  Amount Spent (Rs.)  \n",
       "0         8.5              2668.0  \n",
       "1        16.9              3469.0  \n",
       "2         7.3              5215.0  \n",
       "3        30.1             10423.0  \n",
       "4        13.3              5404.0  "
      ]
     },
     "execution_count": 2,
     "metadata": {},
     "output_type": "execute_result"
    }
   ],
   "source": [
    "# Load the data\n",
    "df = pd.read_excel('Xiaomi India (1).xlsx')\n",
    "df.head()"
   ]
  },
  {
   "cell_type": "code",
   "execution_count": 3,
   "metadata": {},
   "outputs": [
    {
     "name": "stdout",
     "output_type": "stream",
     "text": [
      "(43200, 7)\n"
     ]
    },
    {
     "data": {
      "text/plain": [
       "Customer              0\n",
       "Day                   0\n",
       "Browser               0\n",
       "No. of Clicks         0\n",
       "Pages Viewed          0\n",
       "Time (min)            0\n",
       "Amount Spent (Rs.)    0\n",
       "dtype: int64"
      ]
     },
     "execution_count": 3,
     "metadata": {},
     "output_type": "execute_result"
    }
   ],
   "source": [
    "# Checking for null values\n",
    "print(df.shape)\n",
    "df.isnull().sum()"
   ]
  },
  {
   "cell_type": "code",
   "execution_count": 4,
   "metadata": {},
   "outputs": [
    {
     "data": {
      "text/html": [
       "<div>\n",
       "<style scoped>\n",
       "    .dataframe tbody tr th:only-of-type {\n",
       "        vertical-align: middle;\n",
       "    }\n",
       "\n",
       "    .dataframe tbody tr th {\n",
       "        vertical-align: top;\n",
       "    }\n",
       "\n",
       "    .dataframe thead th {\n",
       "        text-align: right;\n",
       "    }\n",
       "</style>\n",
       "<table border=\"1\" class=\"dataframe\">\n",
       "  <thead>\n",
       "    <tr style=\"text-align: right;\">\n",
       "      <th></th>\n",
       "      <th>Day</th>\n",
       "      <th>Browser</th>\n",
       "      <th>No. of Clicks</th>\n",
       "      <th>Pages Viewed</th>\n",
       "      <th>Time (min)</th>\n",
       "      <th>Amount Spent (Rs.)</th>\n",
       "    </tr>\n",
       "  </thead>\n",
       "  <tbody>\n",
       "    <tr>\n",
       "      <td>0</td>\n",
       "      <td>Monday</td>\n",
       "      <td>Chrome</td>\n",
       "      <td>13</td>\n",
       "      <td>4</td>\n",
       "      <td>8.5</td>\n",
       "      <td>2668.0</td>\n",
       "    </tr>\n",
       "    <tr>\n",
       "      <td>1</td>\n",
       "      <td>Saturday</td>\n",
       "      <td>Chrome</td>\n",
       "      <td>15</td>\n",
       "      <td>5</td>\n",
       "      <td>16.9</td>\n",
       "      <td>3469.0</td>\n",
       "    </tr>\n",
       "    <tr>\n",
       "      <td>2</td>\n",
       "      <td>Monday</td>\n",
       "      <td>Internet Explorer</td>\n",
       "      <td>20</td>\n",
       "      <td>6</td>\n",
       "      <td>7.3</td>\n",
       "      <td>5215.0</td>\n",
       "    </tr>\n",
       "    <tr>\n",
       "      <td>3</td>\n",
       "      <td>Monday</td>\n",
       "      <td>Chrome</td>\n",
       "      <td>42</td>\n",
       "      <td>6</td>\n",
       "      <td>30.1</td>\n",
       "      <td>10423.0</td>\n",
       "    </tr>\n",
       "    <tr>\n",
       "      <td>4</td>\n",
       "      <td>Saturday</td>\n",
       "      <td>Internet Explorer</td>\n",
       "      <td>20</td>\n",
       "      <td>6</td>\n",
       "      <td>13.3</td>\n",
       "      <td>5404.0</td>\n",
       "    </tr>\n",
       "  </tbody>\n",
       "</table>\n",
       "</div>"
      ],
      "text/plain": [
       "        Day            Browser  No. of Clicks  Pages Viewed  Time (min)  \\\n",
       "0    Monday             Chrome             13             4         8.5   \n",
       "1  Saturday             Chrome             15             5        16.9   \n",
       "2    Monday  Internet Explorer             20             6         7.3   \n",
       "3    Monday             Chrome             42             6        30.1   \n",
       "4  Saturday  Internet Explorer             20             6        13.3   \n",
       "\n",
       "   Amount Spent (Rs.)  \n",
       "0              2668.0  \n",
       "1              3469.0  \n",
       "2              5215.0  \n",
       "3             10423.0  \n",
       "4              5404.0  "
      ]
     },
     "execution_count": 4,
     "metadata": {},
     "output_type": "execute_result"
    }
   ],
   "source": [
    "# Drop not required columns\n",
    "# In this case it is 'Customer'\n",
    "df = df.drop(['Customer'], axis=1)\n",
    "df.head()"
   ]
  },
  {
   "cell_type": "code",
   "execution_count": 5,
   "metadata": {},
   "outputs": [
    {
     "name": "stdout",
     "output_type": "stream",
     "text": [
      "<class 'pandas.core.frame.DataFrame'>\n",
      "RangeIndex: 43200 entries, 0 to 43199\n",
      "Data columns (total 6 columns):\n",
      "Day                   43200 non-null object\n",
      "Browser               43200 non-null object\n",
      "No. of Clicks         43200 non-null int64\n",
      "Pages Viewed          43200 non-null int64\n",
      "Time (min)            43200 non-null float64\n",
      "Amount Spent (Rs.)    43200 non-null float64\n",
      "dtypes: float64(2), int64(2), object(2)\n",
      "memory usage: 2.0+ MB\n"
     ]
    }
   ],
   "source": [
    "# Checking for Datatypes\n",
    "df.info()"
   ]
  },
  {
   "cell_type": "code",
   "execution_count": 6,
   "metadata": {},
   "outputs": [
    {
     "data": {
      "text/html": [
       "<div>\n",
       "<style scoped>\n",
       "    .dataframe tbody tr th:only-of-type {\n",
       "        vertical-align: middle;\n",
       "    }\n",
       "\n",
       "    .dataframe tbody tr th {\n",
       "        vertical-align: top;\n",
       "    }\n",
       "\n",
       "    .dataframe thead th {\n",
       "        text-align: right;\n",
       "    }\n",
       "</style>\n",
       "<table border=\"1\" class=\"dataframe\">\n",
       "  <thead>\n",
       "    <tr style=\"text-align: right;\">\n",
       "      <th></th>\n",
       "      <th>Day</th>\n",
       "      <th>Browser</th>\n",
       "      <th>No. of Clicks</th>\n",
       "      <th>Pages Viewed</th>\n",
       "      <th>Time (min)</th>\n",
       "      <th>Amount Spent (Rs.)</th>\n",
       "    </tr>\n",
       "  </thead>\n",
       "  <tbody>\n",
       "    <tr>\n",
       "      <td>0</td>\n",
       "      <td>1</td>\n",
       "      <td>0</td>\n",
       "      <td>13</td>\n",
       "      <td>4</td>\n",
       "      <td>8.5</td>\n",
       "      <td>2668.0</td>\n",
       "    </tr>\n",
       "    <tr>\n",
       "      <td>1</td>\n",
       "      <td>2</td>\n",
       "      <td>0</td>\n",
       "      <td>15</td>\n",
       "      <td>5</td>\n",
       "      <td>16.9</td>\n",
       "      <td>3469.0</td>\n",
       "    </tr>\n",
       "    <tr>\n",
       "      <td>2</td>\n",
       "      <td>1</td>\n",
       "      <td>2</td>\n",
       "      <td>20</td>\n",
       "      <td>6</td>\n",
       "      <td>7.3</td>\n",
       "      <td>5215.0</td>\n",
       "    </tr>\n",
       "    <tr>\n",
       "      <td>3</td>\n",
       "      <td>1</td>\n",
       "      <td>0</td>\n",
       "      <td>42</td>\n",
       "      <td>6</td>\n",
       "      <td>30.1</td>\n",
       "      <td>10423.0</td>\n",
       "    </tr>\n",
       "    <tr>\n",
       "      <td>4</td>\n",
       "      <td>2</td>\n",
       "      <td>2</td>\n",
       "      <td>20</td>\n",
       "      <td>6</td>\n",
       "      <td>13.3</td>\n",
       "      <td>5404.0</td>\n",
       "    </tr>\n",
       "  </tbody>\n",
       "</table>\n",
       "</div>"
      ],
      "text/plain": [
       "   Day  Browser  No. of Clicks  Pages Viewed  Time (min)  Amount Spent (Rs.)\n",
       "0    1        0             13             4         8.5              2668.0\n",
       "1    2        0             15             5        16.9              3469.0\n",
       "2    1        2             20             6         7.3              5215.0\n",
       "3    1        0             42             6        30.1             10423.0\n",
       "4    2        2             20             6        13.3              5404.0"
      ]
     },
     "execution_count": 6,
     "metadata": {},
     "output_type": "execute_result"
    }
   ],
   "source": [
    "# Converting non-numeric data into numeric by using label encoding\n",
    "from sklearn.preprocessing import LabelEncoder\n",
    "encoder = LabelEncoder()\n",
    "df['Day'] = encoder.fit_transform(df['Day'])\n",
    "df['Browser'] = encoder.fit_transform(df['Browser'])\n",
    "df.head()"
   ]
  },
  {
   "cell_type": "code",
   "execution_count": 7,
   "metadata": {},
   "outputs": [
    {
     "name": "stdout",
     "output_type": "stream",
     "text": [
      "<class 'pandas.core.frame.DataFrame'>\n",
      "RangeIndex: 43200 entries, 0 to 43199\n",
      "Data columns (total 6 columns):\n",
      "Day                   43200 non-null int32\n",
      "Browser               43200 non-null int32\n",
      "No. of Clicks         43200 non-null int64\n",
      "Pages Viewed          43200 non-null int64\n",
      "Time (min)            43200 non-null float64\n",
      "Amount Spent (Rs.)    43200 non-null float64\n",
      "dtypes: float64(2), int32(2), int64(2)\n",
      "memory usage: 1.6 MB\n"
     ]
    }
   ],
   "source": [
    "# Checking for datatypes after label encoding\n",
    "df.info()"
   ]
  },
  {
   "cell_type": "code",
   "execution_count": 8,
   "metadata": {},
   "outputs": [
    {
     "data": {
      "image/png": "[encoded data removed]",
      "text/plain": [
       "<Figure size 1440x360 with 2 Axes>"
      ]
     },
     "metadata": {
      "needs_background": "light"
     },
     "output_type": "display_data"
    },
    {
     "data": {
      "image/png": "[encoded data removed]",
      "text/plain": [
       "<Figure size 1440x360 with 2 Axes>"
      ]
     },
     "metadata": {
      "needs_background": "light"
     },
     "output_type": "display_data"
    },
    {
     "data": {
      "image/png": "[encoded data removed]",
      "text/plain": [
       "<Figure size 1440x360 with 2 Axes>"
      ]
     },
     "metadata": {
      "needs_background": "light"
     },
     "output_type": "display_data"
    },
    {
     "data": {
      "image/png": "[encoded data removed]",
      "text/plain": [
       "<Figure size 1440x360 with 2 Axes>"
      ]
     },
     "metadata": {
      "needs_background": "light"
     },
     "output_type": "display_data"
    },
    {
     "data": {
      "image/png": "[encoded data removed]",
      "text/plain": [
       "<Figure size 1440x360 with 2 Axes>"
      ]
     },
     "metadata": {
      "needs_background": "light"
     },
     "output_type": "display_data"
    },
    {
     "data": {
      "image/png": "[encoded data removed]",
      "text/plain": [
       "<Figure size 1440x360 with 2 Axes>"
      ]
     },
     "metadata": {
      "needs_background": "light"
     },
     "output_type": "display_data"
    }
   ],
   "source": [
    "# Checking for outliers by using histogram and boxplot\n",
    "for i in df:\n",
    "    data = df[i]\n",
    "    plt.figure(figsize=(20,5))\n",
    "    plt.subplot(1,2,1)\n",
    "    sns.distplot(data)\n",
    "    plt.subplot(1,2,2)\n",
    "    sns.boxplot(data)\n",
    "    plt.show()\n"
   ]
  },
  {
   "cell_type": "code",
   "execution_count": 9,
   "metadata": {},
   "outputs": [],
   "source": [
    "# Separating independent variable and target variables\n",
    "\n",
    "X = df[df.columns.difference(['Amount Spent (Rs.)'])]\n",
    "y = df['Amount Spent (Rs.)']"
   ]
  },
  {
   "cell_type": "code",
   "execution_count": 10,
   "metadata": {},
   "outputs": [
    {
     "name": "stdout",
     "output_type": "stream",
     "text": [
      "(30240, 5) (12960, 5)\n",
      "(30240,) (12960,)\n"
     ]
    }
   ],
   "source": [
    "# Train-Test-Split\n",
    "from sklearn.model_selection import train_test_split\n",
    "\n",
    "X_train, X_test, y_train, y_test = train_test_split(X, y, test_size = 0.30, random_state = 1)\n",
    "print(X_train.shape, X_test.shape)\n",
    "print(y_train.shape, y_test.shape)"
   ]
  },
  {
   "cell_type": "code",
   "execution_count": 11,
   "metadata": {},
   "outputs": [],
   "source": [
    "# Feature Scaling\n",
    "from sklearn.preprocessing import StandardScaler\n",
    "\n",
    "scaler = StandardScaler()\n",
    "X_train = scaler.fit_transform(X_train)\n",
    "X_test = scaler.transform(X_test)"
   ]
  },
  {
   "cell_type": "markdown",
   "metadata": {},
   "source": [
    "## Model Building"
   ]
  },
  {
   "cell_type": "markdown",
   "metadata": {},
   "source": [
    "### Linear Regression"
   ]
  },
  {
   "cell_type": "code",
   "execution_count": 12,
   "metadata": {},
   "outputs": [],
   "source": [
    "from sklearn.linear_model import LinearRegression\n",
    "\n",
    "lr = LinearRegression()\n",
    "lr.fit(X_train,y_train)\n",
    "predict_train = lr.predict(X_train)\n",
    "predict_test = lr.predict(X_test)"
   ]
  },
  {
   "cell_type": "markdown",
   "metadata": {},
   "source": [
    "#### Explained variance score\n",
    "This score measures how well our model can account for the variation in our dataset. A score of 1.0 indicates that our model is perfect. \n",
    "\n",
    "#### Median absolute error\n",
    "This is the median of all the errors in the given dataset. The main advantage of this metric is that it's robust to outliers. A single bad point in the test dataset wouldn't skew the entire error metric, as opposed to a mean error metric.\n",
    "\n",
    "#### Mean absolute error\n",
    "This is the average of absolute errors of all the datapoints in the given dataset.\n",
    "\n",
    "#### Mean squared error\n",
    "This is the average of the squares of the errors of all the datapoints in the given dataset. It is one of the most popular metrics out there!\n",
    "\n",
    "#### R2 score\n",
    "This is pronounced as R-squared, and this score refers to the coefficient of determination. This tells us how well the unknown samples will be predicted by our model. The best possible score is 1.0, and the values can be negative as well.\n"
   ]
  },
  {
   "cell_type": "code",
   "execution_count": 13,
   "metadata": {},
   "outputs": [
    {
     "name": "stdout",
     "output_type": "stream",
     "text": [
      "For Training\n",
      "\n",
      "R2 Square: 0.8876\n",
      "Root Mean Squared Error: 1074.3093\n",
      "Mean Absolute Error: 811.0537\n",
      "Median Absolute Error: 695.443042\n",
      "Explained Variance Score: 0.887574\n",
      "\n",
      "For Testing\n",
      "\n",
      "R2 Square: 0.8856\n",
      "Root Mean Squared Error: 1081.2583\n",
      "Mean Absolute Error: 814.3292\n",
      "Median Absolute Error: 704.558460\n",
      "Explained Variance Score: 0.885603\n"
     ]
    }
   ],
   "source": [
    "# Importing Metrics\n",
    "from sklearn.metrics import r2_score, mean_squared_error, mean_absolute_error, median_absolute_error, explained_variance_score\n",
    "from math import sqrt\n",
    "\n",
    "print(\"For Training\\n\")\n",
    "print(\"R2 Square: %.4f\" %r2_score(y_train,predict_train))\n",
    "print(\"Root Mean Squared Error: %.4f\" %sqrt(mean_squared_error(y_train,predict_train)))\n",
    "print(\"Mean Absolute Error: %.4f\" %mean_absolute_error(y_train,predict_train))\n",
    "print(\"Median Absolute Error: %4f\" %median_absolute_error(y_train,predict_train))\n",
    "print(\"Explained Variance Score: %4f\" %explained_variance_score(y_train,predict_train))\n",
    "\n",
    "print(\"\\nFor Testing\\n\")\n",
    "print(\"R2 Square: %.4f\" %r2_score(y_test,predict_test))\n",
    "print(\"Root Mean Squared Error: %.4f\" %sqrt(mean_squared_error(y_test,predict_test)))\n",
    "print(\"Mean Absolute Error: %.4f\" %mean_absolute_error(y_test,predict_test))\n",
    "print(\"Median Absolute Error: %4f\" %median_absolute_error(y_test,predict_test))\n",
    "print(\"Explained Variance Score: %4f\" %explained_variance_score(y_test, predict_test))"
   ]
  },
  {
   "cell_type": "markdown",
   "metadata": {},
   "source": [
    "### Polynomial Regression (Degrees = 2)"
   ]
  },
  {
   "cell_type": "code",
   "execution_count": 14,
   "metadata": {},
   "outputs": [
    {
     "name": "stdout",
     "output_type": "stream",
     "text": [
      "For Training\n",
      "\n",
      "R2 Square: 0.9723\n",
      "Root Mean Squared Error: 532.8808\n",
      "Mean Absolute Error: 424.1256\n",
      "Median Absolute Error: 324.817743\n",
      "Explained Variance Score: 0.972339\n",
      "\n",
      "For Testing\n",
      "\n",
      "R2 Square: 0.9720\n",
      "Root Mean Squared Error: 534.4572\n",
      "Mean Absolute Error: 426.3405\n",
      "Median Absolute Error: 351.636016\n",
      "Explained Variance Score: 0.972052\n"
     ]
    }
   ],
   "source": [
    "from sklearn.preprocessing import PolynomialFeatures\n",
    "polynomial = PolynomialFeatures(degree=2) \n",
    "\n",
    "X_train_transformed = polynomial.fit_transform(X_train)\n",
    "X_test_transformed = polynomial.fit_transform(X_test)\n",
    "\n",
    "\n",
    "poly_linear_model = LinearRegression()\n",
    "poly_linear_model.fit(X_train_transformed, y_train)\n",
    "predict_train = poly_linear_model.predict(X_train_transformed)\n",
    "predict_test = poly_linear_model.predict(X_test_transformed)\n",
    "\n",
    "print(\"For Training\\n\")\n",
    "print(\"R2 Square: %.4f\" %r2_score(y_train,predict_train))\n",
    "print(\"Root Mean Squared Error: %.4f\" %sqrt(mean_squared_error(y_train,predict_train)))\n",
    "print(\"Mean Absolute Error: %.4f\" %mean_absolute_error(y_train,predict_train))\n",
    "print(\"Median Absolute Error: %4f\" %median_absolute_error(y_train,predict_train))\n",
    "print(\"Explained Variance Score: %4f\" %explained_variance_score(y_train,predict_train))\n",
    "\n",
    "print(\"\\nFor Testing\\n\")\n",
    "print(\"R2 Square: %.4f\" %r2_score(y_test,predict_test))\n",
    "print(\"Root Mean Squared Error: %.4f\" %sqrt(mean_squared_error(y_test,predict_test)))\n",
    "print(\"Mean Absolute Error: %.4f\" %mean_absolute_error(y_test,predict_test))\n",
    "print(\"Median Absolute Error: %4f\" %median_absolute_error(y_test,predict_test))\n",
    "print(\"Explained Variance Score: %4f\" %explained_variance_score(y_test, predict_test))"
   ]
  },
  {
   "cell_type": "markdown",
   "metadata": {},
   "source": [
    "### Polynomial Regression (Degrees = 3)"
   ]
  },
  {
   "cell_type": "code",
   "execution_count": 15,
   "metadata": {},
   "outputs": [
    {
     "name": "stdout",
     "output_type": "stream",
     "text": [
      "For Training\n",
      "\n",
      "R2 Square: 1.0000\n",
      "Root Mean Squared Error: 0.0000\n",
      "Mean Absolute Error: 0.0000\n",
      "Median Absolute Error: 0.000000\n",
      "Explained Variance Score: 1.000000\n",
      "\n",
      "For Testing\n",
      "\n",
      "R2 Square: 1.0000\n",
      "Root Mean Squared Error: 0.0000\n",
      "Mean Absolute Error: 0.0000\n",
      "Median Absolute Error: 0.000000\n",
      "Explained Variance Score: 1.000000\n"
     ]
    }
   ],
   "source": [
    "polynomial = PolynomialFeatures(degree=3) \n",
    "\n",
    "X_train_transformed = polynomial.fit_transform(X_train)\n",
    "X_test_transformed = polynomial.fit_transform(X_test)\n",
    "\n",
    "\n",
    "poly_linear_model = LinearRegression()\n",
    "poly_linear_model.fit(X_train_transformed, y_train)\n",
    "predict_train = poly_linear_model.predict(X_train_transformed)\n",
    "predict_test = poly_linear_model.predict(X_test_transformed)\n",
    "\n",
    "print(\"For Training\\n\")\n",
    "print(\"R2 Square: %.4f\" %r2_score(y_train,predict_train))\n",
    "print(\"Root Mean Squared Error: %.4f\" %sqrt(mean_squared_error(y_train,predict_train)))\n",
    "print(\"Mean Absolute Error: %.4f\" %mean_absolute_error(y_train,predict_train))\n",
    "print(\"Median Absolute Error: %4f\" %median_absolute_error(y_train,predict_train))\n",
    "print(\"Explained Variance Score: %4f\" %explained_variance_score(y_train,predict_train))\n",
    "\n",
    "print(\"\\nFor Testing\\n\")\n",
    "print(\"R2 Square: %.4f\" %r2_score(y_test,predict_test))\n",
    "print(\"Root Mean Squared Error: %.4f\" %sqrt(mean_squared_error(y_test,predict_test)))\n",
    "print(\"Mean Absolute Error: %.4f\" %mean_absolute_error(y_test,predict_test))\n",
    "print(\"Median Absolute Error: %4f\" %median_absolute_error(y_test,predict_test))\n",
    "print(\"Explained Variance Score: %4f\" %explained_variance_score(y_test, predict_test))"
   ]
  },
  {
   "cell_type": "markdown",
   "metadata": {},
   "source": [
    "### Lasso Regression\n",
    "\n",
    "Ordinary least squares considers every single datapoint when it's building the model. Hence, the actual model ends up looking like the dotted line as shown in the preceding figure. We can clearly see that this model is suboptimal. To avoid this, we use regularization where a penalty is imposed on the size of the coefficients"
   ]
  },
  {
   "cell_type": "code",
   "execution_count": 16,
   "metadata": {},
   "outputs": [
    {
     "name": "stdout",
     "output_type": "stream",
     "text": [
      "For Training\n",
      "\n",
      "R2 Square: 0.8876\n",
      "Root Mean Squared Error: 1074.3093\n",
      "Mean Absolute Error: 811.0441\n",
      "Median Absolute Error: 695.383308\n",
      "Explained Variance Score: 0.887574\n",
      "\n",
      "For Testing\n",
      "\n",
      "R2 Square: 0.8856\n",
      "Root Mean Squared Error: 1081.2582\n",
      "Mean Absolute Error: 814.3179\n",
      "Median Absolute Error: 704.346745\n",
      "Explained Variance Score: 0.885603\n"
     ]
    }
   ],
   "source": [
    "from sklearn.linear_model import Lasso\n",
    "\n",
    "lasso = Lasso(alpha=0.1, max_iter=10000)\n",
    "lasso.fit(X_train,y_train)\n",
    "predict_train = lasso.predict(X_train)\n",
    "predict_test = lasso.predict(X_test)\n",
    "\n",
    "print(\"For Training\\n\")\n",
    "print(\"R2 Square: %.4f\" %r2_score(y_train,predict_train))\n",
    "print(\"Root Mean Squared Error: %.4f\" %sqrt(mean_squared_error(y_train,predict_train)))\n",
    "print(\"Mean Absolute Error: %.4f\" %mean_absolute_error(y_train,predict_train))\n",
    "print(\"Median Absolute Error: %4f\" %median_absolute_error(y_train,predict_train))\n",
    "print(\"Explained Variance Score: %4f\" %explained_variance_score(y_train,predict_train))\n",
    "\n",
    "print(\"\\nFor Testing\\n\")\n",
    "print(\"R2 Square: %.4f\" %r2_score(y_test,predict_test))\n",
    "print(\"Root Mean Squared Error: %.4f\" %sqrt(mean_squared_error(y_test,predict_test)))\n",
    "print(\"Mean Absolute Error: %.4f\" %mean_absolute_error(y_test,predict_test))\n",
    "print(\"Median Absolute Error: %4f\" %median_absolute_error(y_test,predict_test))\n",
    "print(\"Explained Variance Score: %4f\" %explained_variance_score(y_test, predict_test))"
   ]
  },
  {
   "cell_type": "markdown",
   "metadata": {},
   "source": [
    "### Ridge Regression\n",
    "\n",
    "Ordinary least squares considers every single datapoint when it's building the model. Hence, the actual model ends up looking like the dotted line as shown in the preceding figure. We can clearly see that this model is suboptimal. To avoid this, we use regularization where a penalty is imposed on the size of the coefficients."
   ]
  },
  {
   "cell_type": "code",
   "execution_count": 17,
   "metadata": {},
   "outputs": [
    {
     "name": "stdout",
     "output_type": "stream",
     "text": [
      "For Training\n",
      "\n",
      "R2 Square: 0.8876\n",
      "Root Mean Squared Error: 1074.3093\n",
      "Mean Absolute Error: 811.0551\n",
      "Median Absolute Error: 695.437544\n",
      "Explained Variance Score: 0.887574\n",
      "\n",
      "For Testing\n",
      "\n",
      "R2 Square: 0.8856\n",
      "Root Mean Squared Error: 1081.2583\n",
      "Mean Absolute Error: 814.3305\n",
      "Median Absolute Error: 704.555952\n",
      "Explained Variance Score: 0.885603\n"
     ]
    }
   ],
   "source": [
    "from sklearn.linear_model import Ridge\n",
    "\n",
    "ridge = Ridge(alpha=0.1, max_iter=10000)\n",
    "# The alpha parameter controls the complexity. \n",
    "# As alpha gets closer to 0, the ridge regressor tends to become more like a linear regressor with ordinary least squares.\n",
    "# So, if you want to make it robust against outliers, you need to assign a higher value  to alpha.\n",
    "# We considered a value of 0.01, which is moderate.\n",
    "\n",
    "ridge.fit(X_train,y_train)\n",
    "predict_train = ridge.predict(X_train)\n",
    "predict_test = ridge.predict(X_test)\n",
    "\n",
    "print(\"For Training\\n\")\n",
    "print(\"R2 Square: %.4f\" %r2_score(y_train,predict_train))\n",
    "print(\"Root Mean Squared Error: %.4f\" %sqrt(mean_squared_error(y_train,predict_train)))\n",
    "print(\"Mean Absolute Error: %.4f\" %mean_absolute_error(y_train,predict_train))\n",
    "print(\"Median Absolute Error: %4f\" %median_absolute_error(y_train,predict_train))\n",
    "print(\"Explained Variance Score: %4f\" %explained_variance_score(y_train,predict_train))\n",
    "\n",
    "print(\"\\nFor Testing\\n\")\n",
    "print(\"R2 Square: %.4f\" %r2_score(y_test,predict_test))\n",
    "print(\"Root Mean Squared Error: %.4f\" %sqrt(mean_squared_error(y_test,predict_test)))\n",
    "print(\"Mean Absolute Error: %.4f\" %mean_absolute_error(y_test,predict_test))\n",
    "print(\"Median Absolute Error: %4f\" %median_absolute_error(y_test,predict_test))\n",
    "print(\"Explained Variance Score: %4f\" %explained_variance_score(y_test, predict_test))"
   ]
  },
  {
   "cell_type": "markdown",
   "metadata": {},
   "source": [
    "### SVR"
   ]
  },
  {
   "cell_type": "code",
   "execution_count": 18,
   "metadata": {},
   "outputs": [
    {
     "name": "stdout",
     "output_type": "stream",
     "text": [
      "For Training\n",
      "\n",
      "R2 Square: 0.6190\n",
      "Root Mean Squared Error: 1977.7932\n",
      "Mean Absolute Error: 1195.6216\n",
      "Median Absolute Error: 675.025547\n",
      "Explained Variance Score: 0.642301\n",
      "\n",
      "For Testing\n",
      "\n",
      "R2 Square: 0.6152\n",
      "Root Mean Squared Error: 1983.0965\n",
      "Mean Absolute Error: 1198.9623\n",
      "Median Absolute Error: 654.350389\n",
      "Explained Variance Score: 0.639197\n"
     ]
    }
   ],
   "source": [
    "from sklearn.svm import SVR\n",
    "\n",
    "svr = SVR()\n",
    "svr.fit(X_train,y_train)\n",
    "predict_train = svr.predict(X_train)\n",
    "predict_test = svr.predict(X_test)\n",
    "\n",
    "print(\"For Training\\n\")\n",
    "print(\"R2 Square: %.4f\" %r2_score(y_train,predict_train))\n",
    "print(\"Root Mean Squared Error: %.4f\" %sqrt(mean_squared_error(y_train,predict_train)))\n",
    "print(\"Mean Absolute Error: %.4f\" %mean_absolute_error(y_train,predict_train))\n",
    "print(\"Median Absolute Error: %f\" %median_absolute_error(y_train,predict_train))\n",
    "print(\"Explained Variance Score: %4f\" %explained_variance_score(y_train,predict_train))\n",
    "\n",
    "print(\"\\nFor Testing\\n\")\n",
    "print(\"R2 Square: %.4f\" %r2_score(y_test,predict_test))\n",
    "print(\"Root Mean Squared Error: %.4f\" %sqrt(mean_squared_error(y_test,predict_test)))\n",
    "print(\"Mean Absolute Error: %.4f\" %mean_absolute_error(y_test,predict_test))\n",
    "print(\"Median Absolute Error: %f\" %median_absolute_error(y_test,predict_test))\n",
    "print(\"Explained Variance Score: %4f\" %explained_variance_score(y_test, predict_test))"
   ]
  },
  {
   "cell_type": "code",
   "execution_count": null,
   "metadata": {},
   "outputs": [],
   "source": []
  },
  {
   "cell_type": "code",
   "execution_count": null,
   "metadata": {},
   "outputs": [],
   "source": []
  }
 ],
 "metadata": {
  "kernelspec": {
   "display_name": "Python 3",
   "language": "python",
   "name": "python3"
  },
  "language_info": {
   "codemirror_mode": {
    "name": "ipython",
    "version": 3
   },
   "file_extension": ".py",
   "mimetype": "text/x-python",
   "name": "python",
   "nbconvert_exporter": "python",
   "pygments_lexer": "ipython3",
   "version": "3.7.4"
  }
 },
 "nbformat": 4,
 "nbformat_minor": 2
}
